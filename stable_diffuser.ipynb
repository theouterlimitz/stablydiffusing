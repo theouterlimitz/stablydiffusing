{
  "cells": [
    {
      "cell_type": "markdown",
      "metadata": {
        "id": "view-in-github",
        "colab_type": "text"
      },
      "source": [
        "<a href=\"https://colab.research.google.com/github/theouterlimitz/stablydiffusing/blob/main/stable_diffuser.ipynb\" target=\"_parent\"><img src=\"https://colab.research.google.com/assets/colab-badge.svg\" alt=\"Open In Colab\"/></a>"
      ]
    },
    {
      "cell_type": "markdown",
      "source": [],
      "metadata": {
        "id": "zG_NjKz9qmSV"
      }
    },
    {
      "cell_type": "code",
      "source": [
        "!pip install diffusers\n",
        "\n",
        "import torch\n",
        "from torch import nn\n",
        "from torchvision import transforms\n",
        "from PIL import Image\n",
        "from diffusers import StableDiffusionPipeline\n",
        "import matplotlib.pyplot as plt\n",
        "\n",
        "# Load a pre-trained Stable Diffusion model\n",
        "model_id = \"CompVis/stable-diffusion-v1-4\"\n",
        "device = \"cuda\" if torch.cuda.is_available() else \"cpu\"\n",
        "pipe = StableDiffusionPipeline.from_pretrained(model_id, torch_dtype=torch.float16).to(device)\n",
        "\n",
        "def generate_image(prompt, num_images=4, guidance_scale=7.5, num_inference_steps=125, seed=None):\n",
        "    \"\"\"Generates images based on the given prompt using Stable Diffusion.\"\"\"\n",
        "\n",
        "    generator = torch.Generator(device=device)\n",
        "    if seed is not None:\n",
        "        generator = generator.manual_seed(seed)\n",
        "\n",
        "    images = pipe(\n",
        "        [prompt] * num_images,\n",
        "        guidance_scale=guidance_scale,\n",
        "        num_inference_steps=num_inference_steps,\n",
        "        generator=generator,\n",
        "    ).images\n",
        "\n",
        "    return images\n",
        "\n",
        "# Prompts (based on your requests)\n",
        "prompts = [\n",
        "    \"a kitten and a bowl of fruit.  in high quality color.\",\n",
        "]\n",
        "\n",
        "# Generate and display images\n",
        "for prompt in prompts:\n",
        "    images = generate_image(prompt)\n",
        "    for img in images:\n",
        "        # Convert to PIL Image for display\n",
        "        img = img.convert(\"RGB\")\n",
        "        plt.imshow(img)\n",
        "        plt.title(f\"Prompt: {prompt}\")\n",
        "        plt.axis(\"off\")\n",
        "        plt.show()"
      ],
      "outputs": [],
      "execution_count": null,
      "metadata": {
        "id": "54XveJ5QqmSZ"
      }
    },
    {
      "cell_type": "markdown",
      "source": [
        "**Key Libraries and Concepts:**\n",
        "\n",
        "* **Diffusers:**  Provides easy access to state-of-the-art diffusion models (like Stable Diffusion) for text-to-image generation.\n",
        "* **Stable Diffusion:** A powerful generative model capable of creating high-quality images from textual descriptions.\n",
        "* **Torch (PyTorch):** The underlying deep learning framework for the model and image processing.\n",
        "* **PIL (Pillow):** Used for basic image manipulation and display.\n",
        "* **Matplotlib:**  For plotting the generated images.\n",
        "\n",
        "**Explanation:**\n",
        "\n",
        "1. **Load the Model:** The pre-trained Stable Diffusion model is loaded.\n",
        "2. **`generate_image` Function:**  This function does the following:\n",
        "    * Takes a `prompt` as input, along with optional parameters for controlling the generation process.\n",
        "    * Uses the Stable Diffusion `pipe` to generate images from the prompt.\n",
        "    * Returns a list of generated images (PIL Images).\n",
        "3. **Prompts:** The prompts are defined based on your requests.\n",
        "4. **Generate and Display:**\n",
        "    * The code iterates through each prompt.\n",
        "    * For each prompt:\n",
        "        * The `generate_image` function is called to create images.\n",
        "        * The generated images are displayed using Matplotlib.\n",
        "\n",
        "\n",
        "\n",
        "**To use this code:**\n",
        "\n",
        "1. **Install Libraries:**\n",
        "   ```bash\n",
        "   pip install torch torchvision diffusers transformers\n",
        "   ```\n",
        "\n",
        "2. **Run the script:**  Save it as a `.py` file and execute it.\n",
        "\n",
        "**Important Considerations:**\n",
        "\n",
        "* This example uses a simplified version of Stable Diffusion's pipeline.  Explore more advanced options within the Diffusers library for greater customization and control.\n",
        "* The quality and style of the generated images depend heavily on the prompts you provide. Experiment with different phrasing to achieve desired results."
      ],
      "metadata": {
        "id": "PB8efAZVqmSb"
      }
    },
    {
      "cell_type": "markdown",
      "source": [
        "<div class=\"md-recitation\">\n",
        "  Sources\n",
        "  <ol>\n",
        "  <li><a href=\"https://github.com/ScorchChamp/stable-diffusion-api\">https://github.com/ScorchChamp/stable-diffusion-api</a> subject to MIT</li>\n",
        "  </ol>\n",
        "</div>"
      ],
      "metadata": {
        "id": "KtQiJ43eqmSb"
      }
    }
  ],
  "metadata": {
    "colab": {
      "provenance": [],
      "machine_shape": "hm",
      "gpuType": "L4",
      "include_colab_link": true
    },
    "kernelspec": {
      "display_name": "Python 3",
      "name": "python3"
    },
    "accelerator": "GPU"
  },
  "nbformat": 4,
  "nbformat_minor": 0
}